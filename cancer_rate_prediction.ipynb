{
  "nbformat": 4,
  "nbformat_minor": 0,
  "metadata": {
    "kernelspec": {
      "display_name": "Python 3",
      "language": "python",
      "name": "python3"
    },
    "language_info": {
      "codemirror_mode": {
        "name": "ipython",
        "version": 3
      },
      "file_extension": ".py",
      "mimetype": "text/x-python",
      "name": "python",
      "nbconvert_exporter": "python",
      "pygments_lexer": "ipython3",
      "version": "3.8.3"
    },
    "colab": {
      "name": "cancer_rate_prediction.ipynb",
      "provenance": [],
      "collapsed_sections": [],
      "include_colab_link": true
    }
  },
  "cells": [
    {
      "cell_type": "markdown",
      "metadata": {
        "id": "view-in-github",
        "colab_type": "text"
      },
      "source": [
        "<a href=\"https://colab.research.google.com/github/Sworup-Raj/machine_learning/blob/main/cancer_rate_prediction.ipynb\" target=\"_parent\"><img src=\"https://colab.research.google.com/assets/colab-badge.svg\" alt=\"Open In Colab\"/></a>"
      ]
    },
    {
      "cell_type": "markdown",
      "metadata": {
        "id": "3TS_iDuCaWBc"
      },
      "source": [
        "## Task 1"
      ]
    },
    {
      "cell_type": "markdown",
      "metadata": {
        "id": "ads6yBtqaWBc"
      },
      "source": [
        "### Import Libraries"
      ]
    },
    {
      "cell_type": "code",
      "metadata": {
        "id": "0rGlRHBtaWBc"
      },
      "source": [
        "#loading necessary libraries\r\n",
        "import pandas as pd\r\n",
        "import numpy as np\r\n",
        "\r\n",
        "from sklearn.model_selection import train_test_split\r\n",
        "from sklearn.metrics import mean_squared_error\r\n",
        "from sklearn.ensemble import RandomForestRegressor\r\n",
        "from sklearn.linear_model import LinearRegression\r\n",
        "from sklearn.model_selection import GridSearchCV\r\n",
        "\r\n",
        "#for visualization\r\n",
        "import seaborn as sns\r\n",
        "import matplotlib.pyplot as plt"
      ],
      "execution_count": 107,
      "outputs": []
    },
    {
      "cell_type": "markdown",
      "metadata": {
        "id": "rEEA8eZRaWBd"
      },
      "source": [
        "### Load the data and display first 5 rows."
      ]
    },
    {
      "cell_type": "code",
      "metadata": {
        "id": "mF3Qi2tyaWBd",
        "colab": {
          "base_uri": "https://localhost:8080/",
          "height": 425
        },
        "outputId": "ab6315d1-ed14-43a8-ce05-e09d0bd9dfa4"
      },
      "source": [
        "cancer_data  = pd.read_csv(\"https://raw.githubusercontent.com/dphi-official/Datasets/master/cancer_death_rate/Training_set_label.csv\" )\r\n",
        "cancer_data.head()"
      ],
      "execution_count": 108,
      "outputs": [
        {
          "output_type": "execute_result",
          "data": {
            "text/html": [
              "<div>\n",
              "<style scoped>\n",
              "    .dataframe tbody tr th:only-of-type {\n",
              "        vertical-align: middle;\n",
              "    }\n",
              "\n",
              "    .dataframe tbody tr th {\n",
              "        vertical-align: top;\n",
              "    }\n",
              "\n",
              "    .dataframe thead th {\n",
              "        text-align: right;\n",
              "    }\n",
              "</style>\n",
              "<table border=\"1\" class=\"dataframe\">\n",
              "  <thead>\n",
              "    <tr style=\"text-align: right;\">\n",
              "      <th></th>\n",
              "      <th>avgAnnCount</th>\n",
              "      <th>avgDeathsPerYear</th>\n",
              "      <th>incidenceRate</th>\n",
              "      <th>medIncome</th>\n",
              "      <th>popEst2015</th>\n",
              "      <th>povertyPercent</th>\n",
              "      <th>studyPerCap</th>\n",
              "      <th>binnedInc</th>\n",
              "      <th>MedianAge</th>\n",
              "      <th>MedianAgeMale</th>\n",
              "      <th>MedianAgeFemale</th>\n",
              "      <th>Geography</th>\n",
              "      <th>AvgHouseholdSize</th>\n",
              "      <th>PercentMarried</th>\n",
              "      <th>PctNoHS18_24</th>\n",
              "      <th>PctHS18_24</th>\n",
              "      <th>PctSomeCol18_24</th>\n",
              "      <th>PctBachDeg18_24</th>\n",
              "      <th>PctHS25_Over</th>\n",
              "      <th>PctBachDeg25_Over</th>\n",
              "      <th>PctEmployed16_Over</th>\n",
              "      <th>PctUnemployed16_Over</th>\n",
              "      <th>PctPrivateCoverage</th>\n",
              "      <th>PctPrivateCoverageAlone</th>\n",
              "      <th>PctEmpPrivCoverage</th>\n",
              "      <th>PctPublicCoverage</th>\n",
              "      <th>PctPublicCoverageAlone</th>\n",
              "      <th>PctWhite</th>\n",
              "      <th>PctBlack</th>\n",
              "      <th>PctAsian</th>\n",
              "      <th>PctOtherRace</th>\n",
              "      <th>PctMarriedHouseholds</th>\n",
              "      <th>BirthRate</th>\n",
              "      <th>TARGET_deathRate</th>\n",
              "    </tr>\n",
              "  </thead>\n",
              "  <tbody>\n",
              "    <tr>\n",
              "      <th>0</th>\n",
              "      <td>19.0</td>\n",
              "      <td>8</td>\n",
              "      <td>481.5</td>\n",
              "      <td>50038</td>\n",
              "      <td>2704</td>\n",
              "      <td>11.1</td>\n",
              "      <td>0.0</td>\n",
              "      <td>(48021.6, 51046.4]</td>\n",
              "      <td>48.4</td>\n",
              "      <td>49.6</td>\n",
              "      <td>46.4</td>\n",
              "      <td>Hettinger County, North Dakota</td>\n",
              "      <td>2.25</td>\n",
              "      <td>65.9</td>\n",
              "      <td>10.8</td>\n",
              "      <td>25.0</td>\n",
              "      <td>57.4</td>\n",
              "      <td>6.8</td>\n",
              "      <td>37.1</td>\n",
              "      <td>12.2</td>\n",
              "      <td>57.4</td>\n",
              "      <td>1.1</td>\n",
              "      <td>81.2</td>\n",
              "      <td>56.0</td>\n",
              "      <td>35.7</td>\n",
              "      <td>34.7</td>\n",
              "      <td>9.9</td>\n",
              "      <td>96.032049</td>\n",
              "      <td>0.724914</td>\n",
              "      <td>0.000000</td>\n",
              "      <td>0.000000</td>\n",
              "      <td>62.511457</td>\n",
              "      <td>15.157116</td>\n",
              "      <td>160.3</td>\n",
              "    </tr>\n",
              "    <tr>\n",
              "      <th>1</th>\n",
              "      <td>88.0</td>\n",
              "      <td>34</td>\n",
              "      <td>486.0</td>\n",
              "      <td>59399</td>\n",
              "      <td>14844</td>\n",
              "      <td>9.7</td>\n",
              "      <td>0.0</td>\n",
              "      <td>(54545.6, 61494.5]</td>\n",
              "      <td>41.9</td>\n",
              "      <td>41.3</td>\n",
              "      <td>43.2</td>\n",
              "      <td>Mills County, Iowa</td>\n",
              "      <td>2.63</td>\n",
              "      <td>58.6</td>\n",
              "      <td>22.3</td>\n",
              "      <td>29.1</td>\n",
              "      <td>NaN</td>\n",
              "      <td>1.1</td>\n",
              "      <td>35.9</td>\n",
              "      <td>16.0</td>\n",
              "      <td>60.4</td>\n",
              "      <td>3.8</td>\n",
              "      <td>76.7</td>\n",
              "      <td>NaN</td>\n",
              "      <td>50.8</td>\n",
              "      <td>32.1</td>\n",
              "      <td>12.8</td>\n",
              "      <td>97.537344</td>\n",
              "      <td>0.719957</td>\n",
              "      <td>0.080743</td>\n",
              "      <td>0.040371</td>\n",
              "      <td>61.641045</td>\n",
              "      <td>3.293510</td>\n",
              "      <td>194.9</td>\n",
              "    </tr>\n",
              "    <tr>\n",
              "      <th>2</th>\n",
              "      <td>195.0</td>\n",
              "      <td>83</td>\n",
              "      <td>475.7</td>\n",
              "      <td>39721</td>\n",
              "      <td>25164</td>\n",
              "      <td>18.5</td>\n",
              "      <td>0.0</td>\n",
              "      <td>(37413.8, 40362.7]</td>\n",
              "      <td>48.9</td>\n",
              "      <td>47.9</td>\n",
              "      <td>49.9</td>\n",
              "      <td>Gladwin County, Michigan</td>\n",
              "      <td>2.30</td>\n",
              "      <td>57.2</td>\n",
              "      <td>24.9</td>\n",
              "      <td>36.2</td>\n",
              "      <td>NaN</td>\n",
              "      <td>3.5</td>\n",
              "      <td>40.2</td>\n",
              "      <td>7.6</td>\n",
              "      <td>41.2</td>\n",
              "      <td>11.0</td>\n",
              "      <td>61.6</td>\n",
              "      <td>NaN</td>\n",
              "      <td>32.1</td>\n",
              "      <td>49.8</td>\n",
              "      <td>21.6</td>\n",
              "      <td>97.576566</td>\n",
              "      <td>0.360770</td>\n",
              "      <td>0.411749</td>\n",
              "      <td>0.082350</td>\n",
              "      <td>53.978102</td>\n",
              "      <td>6.390328</td>\n",
              "      <td>196.5</td>\n",
              "    </tr>\n",
              "    <tr>\n",
              "      <th>3</th>\n",
              "      <td>116.0</td>\n",
              "      <td>55</td>\n",
              "      <td>496.6</td>\n",
              "      <td>30299</td>\n",
              "      <td>17917</td>\n",
              "      <td>28.1</td>\n",
              "      <td>0.0</td>\n",
              "      <td>[22640, 34218.1]</td>\n",
              "      <td>44.2</td>\n",
              "      <td>42.7</td>\n",
              "      <td>45.2</td>\n",
              "      <td>Fentress County, Tennessee</td>\n",
              "      <td>2.43</td>\n",
              "      <td>53.0</td>\n",
              "      <td>10.9</td>\n",
              "      <td>51.8</td>\n",
              "      <td>NaN</td>\n",
              "      <td>5.3</td>\n",
              "      <td>44.2</td>\n",
              "      <td>7.0</td>\n",
              "      <td>41.6</td>\n",
              "      <td>10.4</td>\n",
              "      <td>45.2</td>\n",
              "      <td>NaN</td>\n",
              "      <td>24.2</td>\n",
              "      <td>53.2</td>\n",
              "      <td>33.0</td>\n",
              "      <td>97.908650</td>\n",
              "      <td>0.161731</td>\n",
              "      <td>0.306731</td>\n",
              "      <td>0.340193</td>\n",
              "      <td>51.013143</td>\n",
              "      <td>5.124836</td>\n",
              "      <td>230.9</td>\n",
              "    </tr>\n",
              "    <tr>\n",
              "      <th>4</th>\n",
              "      <td>80.0</td>\n",
              "      <td>35</td>\n",
              "      <td>372.0</td>\n",
              "      <td>39625</td>\n",
              "      <td>14058</td>\n",
              "      <td>17.4</td>\n",
              "      <td>0.0</td>\n",
              "      <td>(37413.8, 40362.7]</td>\n",
              "      <td>45.0</td>\n",
              "      <td>42.2</td>\n",
              "      <td>48.0</td>\n",
              "      <td>Las Animas County, Colorado</td>\n",
              "      <td>2.36</td>\n",
              "      <td>52.2</td>\n",
              "      <td>12.6</td>\n",
              "      <td>31.2</td>\n",
              "      <td>NaN</td>\n",
              "      <td>0.2</td>\n",
              "      <td>28.3</td>\n",
              "      <td>10.5</td>\n",
              "      <td>49.3</td>\n",
              "      <td>9.2</td>\n",
              "      <td>56.6</td>\n",
              "      <td>NaN</td>\n",
              "      <td>33.4</td>\n",
              "      <td>43.0</td>\n",
              "      <td>24.7</td>\n",
              "      <td>82.672551</td>\n",
              "      <td>1.834103</td>\n",
              "      <td>0.682617</td>\n",
              "      <td>8.253465</td>\n",
              "      <td>50.566426</td>\n",
              "      <td>3.897033</td>\n",
              "      <td>162.2</td>\n",
              "    </tr>\n",
              "  </tbody>\n",
              "</table>\n",
              "</div>"
            ],
            "text/plain": [
              "   avgAnnCount  avgDeathsPerYear  ...  BirthRate  TARGET_deathRate\n",
              "0         19.0                 8  ...  15.157116             160.3\n",
              "1         88.0                34  ...   3.293510             194.9\n",
              "2        195.0                83  ...   6.390328             196.5\n",
              "3        116.0                55  ...   5.124836             230.9\n",
              "4         80.0                35  ...   3.897033             162.2\n",
              "\n",
              "[5 rows x 34 columns]"
            ]
          },
          "metadata": {
            "tags": []
          },
          "execution_count": 108
        }
      ]
    },
    {
      "cell_type": "markdown",
      "metadata": {
        "id": "RHVlzyz6aWBd"
      },
      "source": [
        "### Perform Exploratory Data Analysis"
      ]
    },
    {
      "cell_type": "code",
      "metadata": {
        "id": "pNC0AQc6aWBd",
        "colab": {
          "base_uri": "https://localhost:8080/"
        },
        "outputId": "1d8d1c39-ba27-493e-ee2e-6cafc0defc0a"
      },
      "source": [
        "cancer_data.info()"
      ],
      "execution_count": 109,
      "outputs": [
        {
          "output_type": "stream",
          "text": [
            "<class 'pandas.core.frame.DataFrame'>\n",
            "RangeIndex: 3051 entries, 0 to 3050\n",
            "Data columns (total 34 columns):\n",
            " #   Column                   Non-Null Count  Dtype  \n",
            "---  ------                   --------------  -----  \n",
            " 0   avgAnnCount              3051 non-null   float64\n",
            " 1   avgDeathsPerYear         3051 non-null   int64  \n",
            " 2   incidenceRate            3051 non-null   float64\n",
            " 3   medIncome                3051 non-null   int64  \n",
            " 4   popEst2015               3051 non-null   int64  \n",
            " 5   povertyPercent           3051 non-null   float64\n",
            " 6   studyPerCap              3051 non-null   float64\n",
            " 7   binnedInc                3051 non-null   object \n",
            " 8   MedianAge                3051 non-null   float64\n",
            " 9   MedianAgeMale            3051 non-null   float64\n",
            " 10  MedianAgeFemale          3051 non-null   float64\n",
            " 11  Geography                3051 non-null   object \n",
            " 12  AvgHouseholdSize         3051 non-null   float64\n",
            " 13  PercentMarried           3051 non-null   float64\n",
            " 14  PctNoHS18_24             3051 non-null   float64\n",
            " 15  PctHS18_24               3051 non-null   float64\n",
            " 16  PctSomeCol18_24          785 non-null    float64\n",
            " 17  PctBachDeg18_24          3051 non-null   float64\n",
            " 18  PctHS25_Over             3051 non-null   float64\n",
            " 19  PctBachDeg25_Over        3051 non-null   float64\n",
            " 20  PctEmployed16_Over       2899 non-null   float64\n",
            " 21  PctUnemployed16_Over     3051 non-null   float64\n",
            " 22  PctPrivateCoverage       3051 non-null   float64\n",
            " 23  PctPrivateCoverageAlone  2447 non-null   float64\n",
            " 24  PctEmpPrivCoverage       3051 non-null   float64\n",
            " 25  PctPublicCoverage        3051 non-null   float64\n",
            " 26  PctPublicCoverageAlone   3051 non-null   float64\n",
            " 27  PctWhite                 3051 non-null   float64\n",
            " 28  PctBlack                 3051 non-null   float64\n",
            " 29  PctAsian                 3051 non-null   float64\n",
            " 30  PctOtherRace             3051 non-null   float64\n",
            " 31  PctMarriedHouseholds     3051 non-null   float64\n",
            " 32  BirthRate                3051 non-null   float64\n",
            " 33  TARGET_deathRate         3051 non-null   float64\n",
            "dtypes: float64(29), int64(3), object(2)\n",
            "memory usage: 810.5+ KB\n"
          ],
          "name": "stdout"
        }
      ]
    },
    {
      "cell_type": "markdown",
      "metadata": {
        "id": "1f7KDTZeW4vZ"
      },
      "source": [
        "1. All together there is 34 columns where 'TARGET_deathRate' is dependent variable ie target variable and remaining columns are dependent variable ie feature.\r\n",
        "2. Some columns have missing value\r\n",
        "3. Two feature are categorical ie binnedInc, Geography"
      ]
    },
    {
      "cell_type": "code",
      "metadata": {
        "colab": {
          "base_uri": "https://localhost:8080/",
          "height": 308
        },
        "id": "ZcLzV5xvrrDN",
        "outputId": "8583417b-6a1e-44e7-bb98-8ef084ba93ac"
      },
      "source": [
        "cancer_data.describe()"
      ],
      "execution_count": 110,
      "outputs": [
        {
          "output_type": "execute_result",
          "data": {
            "text/html": [
              "<div>\n",
              "<style scoped>\n",
              "    .dataframe tbody tr th:only-of-type {\n",
              "        vertical-align: middle;\n",
              "    }\n",
              "\n",
              "    .dataframe tbody tr th {\n",
              "        vertical-align: top;\n",
              "    }\n",
              "\n",
              "    .dataframe thead th {\n",
              "        text-align: right;\n",
              "    }\n",
              "</style>\n",
              "<table border=\"1\" class=\"dataframe\">\n",
              "  <thead>\n",
              "    <tr style=\"text-align: right;\">\n",
              "      <th></th>\n",
              "      <th>avgAnnCount</th>\n",
              "      <th>avgDeathsPerYear</th>\n",
              "      <th>incidenceRate</th>\n",
              "      <th>medIncome</th>\n",
              "      <th>popEst2015</th>\n",
              "      <th>povertyPercent</th>\n",
              "      <th>studyPerCap</th>\n",
              "      <th>MedianAge</th>\n",
              "      <th>MedianAgeMale</th>\n",
              "      <th>MedianAgeFemale</th>\n",
              "      <th>AvgHouseholdSize</th>\n",
              "      <th>PercentMarried</th>\n",
              "      <th>PctNoHS18_24</th>\n",
              "      <th>PctHS18_24</th>\n",
              "      <th>PctSomeCol18_24</th>\n",
              "      <th>PctBachDeg18_24</th>\n",
              "      <th>PctHS25_Over</th>\n",
              "      <th>PctBachDeg25_Over</th>\n",
              "      <th>PctEmployed16_Over</th>\n",
              "      <th>PctUnemployed16_Over</th>\n",
              "      <th>PctPrivateCoverage</th>\n",
              "      <th>PctPrivateCoverageAlone</th>\n",
              "      <th>PctEmpPrivCoverage</th>\n",
              "      <th>PctPublicCoverage</th>\n",
              "      <th>PctPublicCoverageAlone</th>\n",
              "      <th>PctWhite</th>\n",
              "      <th>PctBlack</th>\n",
              "      <th>PctAsian</th>\n",
              "      <th>PctOtherRace</th>\n",
              "      <th>PctMarriedHouseholds</th>\n",
              "      <th>BirthRate</th>\n",
              "      <th>TARGET_deathRate</th>\n",
              "    </tr>\n",
              "  </thead>\n",
              "  <tbody>\n",
              "    <tr>\n",
              "      <th>count</th>\n",
              "      <td>3051.000000</td>\n",
              "      <td>3051.000000</td>\n",
              "      <td>3051.000000</td>\n",
              "      <td>3051.000000</td>\n",
              "      <td>3.051000e+03</td>\n",
              "      <td>3051.000000</td>\n",
              "      <td>3051.000000</td>\n",
              "      <td>3051.000000</td>\n",
              "      <td>3051.000000</td>\n",
              "      <td>3051.000000</td>\n",
              "      <td>3051.000000</td>\n",
              "      <td>3051.000000</td>\n",
              "      <td>3051.000000</td>\n",
              "      <td>3051.000000</td>\n",
              "      <td>785.000000</td>\n",
              "      <td>3051.000000</td>\n",
              "      <td>3051.000000</td>\n",
              "      <td>3051.000000</td>\n",
              "      <td>2899.000000</td>\n",
              "      <td>3051.000000</td>\n",
              "      <td>3051.000000</td>\n",
              "      <td>2447.000000</td>\n",
              "      <td>3051.000000</td>\n",
              "      <td>3051.000000</td>\n",
              "      <td>3051.000000</td>\n",
              "      <td>3051.000000</td>\n",
              "      <td>3051.000000</td>\n",
              "      <td>3051.000000</td>\n",
              "      <td>3051.000000</td>\n",
              "      <td>3051.000000</td>\n",
              "      <td>3051.000000</td>\n",
              "      <td>3051.000000</td>\n",
              "    </tr>\n",
              "    <tr>\n",
              "      <th>mean</th>\n",
              "      <td>570.668154</td>\n",
              "      <td>176.000983</td>\n",
              "      <td>449.007042</td>\n",
              "      <td>46902.917076</td>\n",
              "      <td>9.495799e+04</td>\n",
              "      <td>16.880367</td>\n",
              "      <td>158.695936</td>\n",
              "      <td>44.303540</td>\n",
              "      <td>39.600885</td>\n",
              "      <td>42.234579</td>\n",
              "      <td>2.473048</td>\n",
              "      <td>51.885480</td>\n",
              "      <td>18.225139</td>\n",
              "      <td>34.920190</td>\n",
              "      <td>41.247898</td>\n",
              "      <td>6.131957</td>\n",
              "      <td>34.909440</td>\n",
              "      <td>13.212750</td>\n",
              "      <td>54.115626</td>\n",
              "      <td>7.841069</td>\n",
              "      <td>64.519338</td>\n",
              "      <td>48.573314</td>\n",
              "      <td>41.342347</td>\n",
              "      <td>36.287545</td>\n",
              "      <td>19.198820</td>\n",
              "      <td>84.005243</td>\n",
              "      <td>9.166570</td>\n",
              "      <td>1.198561</td>\n",
              "      <td>1.864829</td>\n",
              "      <td>51.355837</td>\n",
              "      <td>5.608851</td>\n",
              "      <td>178.909767</td>\n",
              "    </tr>\n",
              "    <tr>\n",
              "      <th>std</th>\n",
              "      <td>1250.546532</td>\n",
              "      <td>445.042777</td>\n",
              "      <td>52.886386</td>\n",
              "      <td>11902.460659</td>\n",
              "      <td>2.761007e+05</td>\n",
              "      <td>6.340462</td>\n",
              "      <td>544.035590</td>\n",
              "      <td>38.704107</td>\n",
              "      <td>5.177629</td>\n",
              "      <td>5.253474</td>\n",
              "      <td>0.429926</td>\n",
              "      <td>6.812846</td>\n",
              "      <td>8.105799</td>\n",
              "      <td>9.021475</td>\n",
              "      <td>11.107006</td>\n",
              "      <td>4.552222</td>\n",
              "      <td>7.015728</td>\n",
              "      <td>5.360342</td>\n",
              "      <td>8.267656</td>\n",
              "      <td>3.454863</td>\n",
              "      <td>10.511932</td>\n",
              "      <td>10.011218</td>\n",
              "      <td>9.327793</td>\n",
              "      <td>7.748442</td>\n",
              "      <td>6.023164</td>\n",
              "      <td>16.126982</td>\n",
              "      <td>14.676772</td>\n",
              "      <td>2.369931</td>\n",
              "      <td>3.235204</td>\n",
              "      <td>6.524964</td>\n",
              "      <td>1.955201</td>\n",
              "      <td>27.570075</td>\n",
              "    </tr>\n",
              "    <tr>\n",
              "      <th>min</th>\n",
              "      <td>6.000000</td>\n",
              "      <td>3.000000</td>\n",
              "      <td>211.100000</td>\n",
              "      <td>22640.000000</td>\n",
              "      <td>8.270000e+02</td>\n",
              "      <td>3.200000</td>\n",
              "      <td>0.000000</td>\n",
              "      <td>22.300000</td>\n",
              "      <td>22.400000</td>\n",
              "      <td>22.300000</td>\n",
              "      <td>0.022100</td>\n",
              "      <td>25.100000</td>\n",
              "      <td>0.000000</td>\n",
              "      <td>0.000000</td>\n",
              "      <td>7.100000</td>\n",
              "      <td>0.000000</td>\n",
              "      <td>7.500000</td>\n",
              "      <td>3.200000</td>\n",
              "      <td>17.600000</td>\n",
              "      <td>0.400000</td>\n",
              "      <td>23.400000</td>\n",
              "      <td>16.800000</td>\n",
              "      <td>14.300000</td>\n",
              "      <td>11.800000</td>\n",
              "      <td>2.600000</td>\n",
              "      <td>11.008762</td>\n",
              "      <td>0.000000</td>\n",
              "      <td>0.000000</td>\n",
              "      <td>0.000000</td>\n",
              "      <td>23.915652</td>\n",
              "      <td>0.000000</td>\n",
              "      <td>66.300000</td>\n",
              "    </tr>\n",
              "    <tr>\n",
              "      <th>25%</th>\n",
              "      <td>80.000000</td>\n",
              "      <td>29.000000</td>\n",
              "      <td>421.800000</td>\n",
              "      <td>38752.000000</td>\n",
              "      <td>1.236850e+04</td>\n",
              "      <td>12.200000</td>\n",
              "      <td>0.000000</td>\n",
              "      <td>37.900000</td>\n",
              "      <td>36.400000</td>\n",
              "      <td>39.200000</td>\n",
              "      <td>2.370000</td>\n",
              "      <td>47.800000</td>\n",
              "      <td>12.800000</td>\n",
              "      <td>29.300000</td>\n",
              "      <td>34.000000</td>\n",
              "      <td>3.100000</td>\n",
              "      <td>30.650000</td>\n",
              "      <td>9.300000</td>\n",
              "      <td>48.600000</td>\n",
              "      <td>5.500000</td>\n",
              "      <td>57.500000</td>\n",
              "      <td>41.300000</td>\n",
              "      <td>34.700000</td>\n",
              "      <td>31.000000</td>\n",
              "      <td>14.900000</td>\n",
              "      <td>78.012571</td>\n",
              "      <td>0.616576</td>\n",
              "      <td>0.261748</td>\n",
              "      <td>0.282825</td>\n",
              "      <td>47.736828</td>\n",
              "      <td>4.499936</td>\n",
              "      <td>161.400000</td>\n",
              "    </tr>\n",
              "    <tr>\n",
              "      <th>50%</th>\n",
              "      <td>171.000000</td>\n",
              "      <td>62.000000</td>\n",
              "      <td>453.549422</td>\n",
              "      <td>45098.000000</td>\n",
              "      <td>2.677700e+04</td>\n",
              "      <td>15.900000</td>\n",
              "      <td>0.000000</td>\n",
              "      <td>41.000000</td>\n",
              "      <td>39.500000</td>\n",
              "      <td>42.400000</td>\n",
              "      <td>2.500000</td>\n",
              "      <td>52.500000</td>\n",
              "      <td>17.200000</td>\n",
              "      <td>34.700000</td>\n",
              "      <td>41.000000</td>\n",
              "      <td>5.300000</td>\n",
              "      <td>35.400000</td>\n",
              "      <td>12.300000</td>\n",
              "      <td>54.400000</td>\n",
              "      <td>7.600000</td>\n",
              "      <td>65.300000</td>\n",
              "      <td>48.700000</td>\n",
              "      <td>41.300000</td>\n",
              "      <td>36.300000</td>\n",
              "      <td>18.800000</td>\n",
              "      <td>90.318790</td>\n",
              "      <td>2.276756</td>\n",
              "      <td>0.557031</td>\n",
              "      <td>0.791571</td>\n",
              "      <td>51.757925</td>\n",
              "      <td>5.384471</td>\n",
              "      <td>178.300000</td>\n",
              "    </tr>\n",
              "    <tr>\n",
              "      <th>75%</th>\n",
              "      <td>508.000000</td>\n",
              "      <td>148.000000</td>\n",
              "      <td>481.300000</td>\n",
              "      <td>52410.500000</td>\n",
              "      <td>6.853600e+04</td>\n",
              "      <td>20.400000</td>\n",
              "      <td>86.581336</td>\n",
              "      <td>43.900000</td>\n",
              "      <td>42.500000</td>\n",
              "      <td>45.300000</td>\n",
              "      <td>2.630000</td>\n",
              "      <td>56.500000</td>\n",
              "      <td>22.600000</td>\n",
              "      <td>40.700000</td>\n",
              "      <td>46.900000</td>\n",
              "      <td>8.100000</td>\n",
              "      <td>39.700000</td>\n",
              "      <td>16.100000</td>\n",
              "      <td>60.300000</td>\n",
              "      <td>9.700000</td>\n",
              "      <td>72.200000</td>\n",
              "      <td>55.700000</td>\n",
              "      <td>47.700000</td>\n",
              "      <td>41.400000</td>\n",
              "      <td>23.000000</td>\n",
              "      <td>95.577396</td>\n",
              "      <td>10.326954</td>\n",
              "      <td>1.189955</td>\n",
              "      <td>2.080241</td>\n",
              "      <td>55.465803</td>\n",
              "      <td>6.473896</td>\n",
              "      <td>195.500000</td>\n",
              "    </tr>\n",
              "    <tr>\n",
              "      <th>max</th>\n",
              "      <td>24965.000000</td>\n",
              "      <td>9445.000000</td>\n",
              "      <td>1206.900000</td>\n",
              "      <td>125635.000000</td>\n",
              "      <td>5.238216e+06</td>\n",
              "      <td>47.000000</td>\n",
              "      <td>9762.308998</td>\n",
              "      <td>525.600000</td>\n",
              "      <td>64.700000</td>\n",
              "      <td>65.700000</td>\n",
              "      <td>3.930000</td>\n",
              "      <td>72.500000</td>\n",
              "      <td>64.100000</td>\n",
              "      <td>72.500000</td>\n",
              "      <td>79.000000</td>\n",
              "      <td>51.800000</td>\n",
              "      <td>54.800000</td>\n",
              "      <td>40.400000</td>\n",
              "      <td>76.500000</td>\n",
              "      <td>29.400000</td>\n",
              "      <td>92.300000</td>\n",
              "      <td>78.900000</td>\n",
              "      <td>70.700000</td>\n",
              "      <td>65.100000</td>\n",
              "      <td>46.600000</td>\n",
              "      <td>100.000000</td>\n",
              "      <td>84.866024</td>\n",
              "      <td>35.640183</td>\n",
              "      <td>38.743747</td>\n",
              "      <td>71.703057</td>\n",
              "      <td>21.326165</td>\n",
              "      <td>362.800000</td>\n",
              "    </tr>\n",
              "  </tbody>\n",
              "</table>\n",
              "</div>"
            ],
            "text/plain": [
              "        avgAnnCount  avgDeathsPerYear  ...    BirthRate  TARGET_deathRate\n",
              "count   3051.000000       3051.000000  ...  3051.000000       3051.000000\n",
              "mean     570.668154        176.000983  ...     5.608851        178.909767\n",
              "std     1250.546532        445.042777  ...     1.955201         27.570075\n",
              "min        6.000000          3.000000  ...     0.000000         66.300000\n",
              "25%       80.000000         29.000000  ...     4.499936        161.400000\n",
              "50%      171.000000         62.000000  ...     5.384471        178.300000\n",
              "75%      508.000000        148.000000  ...     6.473896        195.500000\n",
              "max    24965.000000       9445.000000  ...    21.326165        362.800000\n",
              "\n",
              "[8 rows x 32 columns]"
            ]
          },
          "metadata": {
            "tags": []
          },
          "execution_count": 110
        }
      ]
    },
    {
      "cell_type": "code",
      "metadata": {
        "colab": {
          "base_uri": "https://localhost:8080/"
        },
        "id": "QQSLu29VrswZ",
        "outputId": "3e6379ef-f6a6-46f4-bb98-29d9ddb4a0a1"
      },
      "source": [
        "cancer_data.shape"
      ],
      "execution_count": 111,
      "outputs": [
        {
          "output_type": "execute_result",
          "data": {
            "text/plain": [
              "(3051, 34)"
            ]
          },
          "metadata": {
            "tags": []
          },
          "execution_count": 111
        }
      ]
    },
    {
      "cell_type": "code",
      "metadata": {
        "colab": {
          "base_uri": "https://localhost:8080/"
        },
        "id": "uxj-3DkatAPO",
        "outputId": "34d19e51-b4f1-428a-b4a0-ee43682a8a69"
      },
      "source": [
        "cancer_data['binnedInc'].head()"
      ],
      "execution_count": 112,
      "outputs": [
        {
          "output_type": "execute_result",
          "data": {
            "text/plain": [
              "0    (48021.6, 51046.4]\n",
              "1    (54545.6, 61494.5]\n",
              "2    (37413.8, 40362.7]\n",
              "3      [22640, 34218.1]\n",
              "4    (37413.8, 40362.7]\n",
              "Name: binnedInc, dtype: object"
            ]
          },
          "metadata": {
            "tags": []
          },
          "execution_count": 112
        }
      ]
    },
    {
      "cell_type": "markdown",
      "metadata": {
        "id": "qN2NdVoTtn4U"
      },
      "source": [
        "Median income per capita binned by decile.\r\n",
        "we can make one column of avg_median_income"
      ]
    },
    {
      "cell_type": "code",
      "metadata": {
        "colab": {
          "base_uri": "https://localhost:8080/"
        },
        "id": "RgDlvenbXzZQ",
        "outputId": "856550b6-6bdd-4dc6-e082-8fd093aa6833"
      },
      "source": [
        "cancer_data.isnull().sum()"
      ],
      "execution_count": 113,
      "outputs": [
        {
          "output_type": "execute_result",
          "data": {
            "text/plain": [
              "avgAnnCount                   0\n",
              "avgDeathsPerYear              0\n",
              "incidenceRate                 0\n",
              "medIncome                     0\n",
              "popEst2015                    0\n",
              "povertyPercent                0\n",
              "studyPerCap                   0\n",
              "binnedInc                     0\n",
              "MedianAge                     0\n",
              "MedianAgeMale                 0\n",
              "MedianAgeFemale               0\n",
              "Geography                     0\n",
              "AvgHouseholdSize              0\n",
              "PercentMarried                0\n",
              "PctNoHS18_24                  0\n",
              "PctHS18_24                    0\n",
              "PctSomeCol18_24            2266\n",
              "PctBachDeg18_24               0\n",
              "PctHS25_Over                  0\n",
              "PctBachDeg25_Over             0\n",
              "PctEmployed16_Over          152\n",
              "PctUnemployed16_Over          0\n",
              "PctPrivateCoverage            0\n",
              "PctPrivateCoverageAlone     604\n",
              "PctEmpPrivCoverage            0\n",
              "PctPublicCoverage             0\n",
              "PctPublicCoverageAlone        0\n",
              "PctWhite                      0\n",
              "PctBlack                      0\n",
              "PctAsian                      0\n",
              "PctOtherRace                  0\n",
              "PctMarriedHouseholds          0\n",
              "BirthRate                     0\n",
              "TARGET_deathRate              0\n",
              "dtype: int64"
            ]
          },
          "metadata": {
            "tags": []
          },
          "execution_count": 113
        }
      ]
    },
    {
      "cell_type": "markdown",
      "metadata": {
        "id": "HfbQljq7X-AC"
      },
      "source": [
        "Columns ['PctSomeCol18_24', 'PctEmployed16_Over', 'PctPrivateCoverageAlone'] has some missing values"
      ]
    },
    {
      "cell_type": "code",
      "metadata": {
        "colab": {
          "base_uri": "https://localhost:8080/"
        },
        "id": "aOLEP31ZavQf",
        "outputId": "07f4d412-c12a-43d2-8747-a4fff65a354f"
      },
      "source": [
        "cancer_data.duplicated().sum()"
      ],
      "execution_count": 114,
      "outputs": [
        {
          "output_type": "execute_result",
          "data": {
            "text/plain": [
              "766"
            ]
          },
          "metadata": {
            "tags": []
          },
          "execution_count": 114
        }
      ]
    },
    {
      "cell_type": "markdown",
      "metadata": {
        "id": "ctY93YB3dFU6"
      },
      "source": [
        "we can see in dataframe there are 766 duplicate sample."
      ]
    },
    {
      "cell_type": "code",
      "metadata": {
        "id": "TL2olUfFj5gi"
      },
      "source": [
        "cancer_data.drop_duplicates(inplace=True)"
      ],
      "execution_count": 115,
      "outputs": []
    },
    {
      "cell_type": "markdown",
      "metadata": {
        "id": "lefePBdnkHhR"
      },
      "source": [
        "Here I just droped duplicate value bacause it will be difficult to drop after spliting data"
      ]
    },
    {
      "cell_type": "code",
      "metadata": {
        "id": "HTSH9pGrhDwd",
        "colab": {
          "base_uri": "https://localhost:8080/",
          "height": 298
        },
        "outputId": "9e376fee-e076-4344-86b8-491b7c7433b3"
      },
      "source": [
        "sns.histplot(cancer_data['TARGET_deathRate'])"
      ],
      "execution_count": 116,
      "outputs": [
        {
          "output_type": "execute_result",
          "data": {
            "text/plain": [
              "<matplotlib.axes._subplots.AxesSubplot at 0x7f9d9c2c4160>"
            ]
          },
          "metadata": {
            "tags": []
          },
          "execution_count": 116
        },
        {
          "output_type": "display_data",
          "data": {
            "image/png": "[encoded data removed]",
            "text/plain": [
              "<Figure size 432x288 with 1 Axes>"
            ]
          },
          "metadata": {
            "tags": [],
            "needs_background": "light"
          }
        }
      ]
    },
    {
      "cell_type": "markdown",
      "metadata": {
        "id": "0qkBHNhokCJP"
      },
      "source": [
        "Target variable is normally distributed but have outliers "
      ]
    },
    {
      "cell_type": "code",
      "metadata": {
        "colab": {
          "base_uri": "https://localhost:8080/",
          "height": 270
        },
        "id": "iAyoI_JxuyNR",
        "outputId": "67fa2a40-a062-4e24-9d7e-922b9bb0c9b0"
      },
      "source": [
        "sns.boxplot(y=cancer_data['TARGET_deathRate'])"
      ],
      "execution_count": 117,
      "outputs": [
        {
          "output_type": "execute_result",
          "data": {
            "text/plain": [
              "<matplotlib.axes._subplots.AxesSubplot at 0x7f9d9ca1d898>"
            ]
          },
          "metadata": {
            "tags": []
          },
          "execution_count": 117
        },
        {
          "output_type": "display_data",
          "data": {
            "image/png": "[encoded data removed]",
            "text/plain": [
              "<Figure size 432x288 with 1 Axes>"
            ]
          },
          "metadata": {
            "tags": [],
            "needs_background": "light"
          }
        }
      ]
    },
    {
      "cell_type": "markdown",
      "metadata": {
        "id": "7I0bhRLivF_N"
      },
      "source": [
        "By this box we can see there is outlier in target value"
      ]
    },
    {
      "cell_type": "code",
      "metadata": {
        "colab": {
          "base_uri": "https://localhost:8080/",
          "height": 133
        },
        "id": "Op9NBHTautMb",
        "outputId": "6bba267c-63e7-4b9d-f21d-153b500808b6"
      },
      "source": [
        "cancer_data[cancer_data['TARGET_deathRate']>300]"
      ],
      "execution_count": 118,
      "outputs": [
        {
          "output_type": "execute_result",
          "data": {
            "text/html": [
              "<div>\n",
              "<style scoped>\n",
              "    .dataframe tbody tr th:only-of-type {\n",
              "        vertical-align: middle;\n",
              "    }\n",
              "\n",
              "    .dataframe tbody tr th {\n",
              "        vertical-align: top;\n",
              "    }\n",
              "\n",
              "    .dataframe thead th {\n",
              "        text-align: right;\n",
              "    }\n",
              "</style>\n",
              "<table border=\"1\" class=\"dataframe\">\n",
              "  <thead>\n",
              "    <tr style=\"text-align: right;\">\n",
              "      <th></th>\n",
              "      <th>avgAnnCount</th>\n",
              "      <th>avgDeathsPerYear</th>\n",
              "      <th>incidenceRate</th>\n",
              "      <th>medIncome</th>\n",
              "      <th>popEst2015</th>\n",
              "      <th>povertyPercent</th>\n",
              "      <th>studyPerCap</th>\n",
              "      <th>binnedInc</th>\n",
              "      <th>MedianAge</th>\n",
              "      <th>MedianAgeMale</th>\n",
              "      <th>MedianAgeFemale</th>\n",
              "      <th>Geography</th>\n",
              "      <th>AvgHouseholdSize</th>\n",
              "      <th>PercentMarried</th>\n",
              "      <th>PctNoHS18_24</th>\n",
              "      <th>PctHS18_24</th>\n",
              "      <th>PctSomeCol18_24</th>\n",
              "      <th>PctBachDeg18_24</th>\n",
              "      <th>PctHS25_Over</th>\n",
              "      <th>PctBachDeg25_Over</th>\n",
              "      <th>PctEmployed16_Over</th>\n",
              "      <th>PctUnemployed16_Over</th>\n",
              "      <th>PctPrivateCoverage</th>\n",
              "      <th>PctPrivateCoverageAlone</th>\n",
              "      <th>PctEmpPrivCoverage</th>\n",
              "      <th>PctPublicCoverage</th>\n",
              "      <th>PctPublicCoverageAlone</th>\n",
              "      <th>PctWhite</th>\n",
              "      <th>PctBlack</th>\n",
              "      <th>PctAsian</th>\n",
              "      <th>PctOtherRace</th>\n",
              "      <th>PctMarriedHouseholds</th>\n",
              "      <th>BirthRate</th>\n",
              "      <th>TARGET_deathRate</th>\n",
              "    </tr>\n",
              "  </thead>\n",
              "  <tbody>\n",
              "    <tr>\n",
              "      <th>528</th>\n",
              "      <td>214.0</td>\n",
              "      <td>61</td>\n",
              "      <td>1206.9</td>\n",
              "      <td>40207</td>\n",
              "      <td>15234</td>\n",
              "      <td>24.3</td>\n",
              "      <td>0.0</td>\n",
              "      <td>(37413.8, 40362.7]</td>\n",
              "      <td>40.3</td>\n",
              "      <td>42.3</td>\n",
              "      <td>36.9</td>\n",
              "      <td>Union County, Florida</td>\n",
              "      <td>2.58</td>\n",
              "      <td>36.4</td>\n",
              "      <td>27.0</td>\n",
              "      <td>45.1</td>\n",
              "      <td>NaN</td>\n",
              "      <td>0.0</td>\n",
              "      <td>37.4</td>\n",
              "      <td>5.5</td>\n",
              "      <td>NaN</td>\n",
              "      <td>11.7</td>\n",
              "      <td>59.6</td>\n",
              "      <td>49.2</td>\n",
              "      <td>41.0</td>\n",
              "      <td>35.8</td>\n",
              "      <td>22.5</td>\n",
              "      <td>73.964848</td>\n",
              "      <td>21.591732</td>\n",
              "      <td>0.645119</td>\n",
              "      <td>1.533803</td>\n",
              "      <td>50.012877</td>\n",
              "      <td>3.739774</td>\n",
              "      <td>362.8</td>\n",
              "    </tr>\n",
              "  </tbody>\n",
              "</table>\n",
              "</div>"
            ],
            "text/plain": [
              "     avgAnnCount  avgDeathsPerYear  ...  BirthRate  TARGET_deathRate\n",
              "528        214.0                61  ...   3.739774             362.8\n",
              "\n",
              "[1 rows x 34 columns]"
            ]
          },
          "metadata": {
            "tags": []
          },
          "execution_count": 118
        }
      ]
    },
    {
      "cell_type": "code",
      "metadata": {
        "colab": {
          "base_uri": "https://localhost:8080/",
          "height": 1000
        },
        "id": "CD9kvWgZoV-w",
        "outputId": "e1e125cb-aca9-4b45-aea2-30f60a09d00a"
      },
      "source": [
        "sns.pairplot(cancer_data.iloc[:,:8])\r\n",
        "plt.show()"
      ],
      "execution_count": 119,
      "outputs": [
        {
          "output_type": "display_data",
          "data": {
            "image/png": "[encoded data removed]",
            "text/plain": [
              "<Figure size 1260x1260 with 56 Axes>"
            ]
          },
          "metadata": {
            "tags": [],
            "needs_background": "light"
          }
        }
      ]
    },
    {
      "cell_type": "markdown",
      "metadata": {
        "id": "fxyOf9ZbvQO_"
      },
      "source": [
        "most of columns are right skewed and some are normally distributed."
      ]
    },
    {
      "cell_type": "code",
      "metadata": {
        "colab": {
          "base_uri": "https://localhost:8080/"
        },
        "id": "ulG9jpEyxUyh",
        "outputId": "c58b9465-44cb-4a85-cf0c-799d7bcba662"
      },
      "source": [
        "corr_matrix=cancer_data.corr()\r\n",
        "corr_matrix[\"TARGET_deathRate\"].sort_values(ascending=False)"
      ],
      "execution_count": 120,
      "outputs": [
        {
          "output_type": "execute_result",
          "data": {
            "text/plain": [
              "TARGET_deathRate           1.000000\n",
              "incidenceRate              0.469213\n",
              "PctPublicCoverageAlone     0.456076\n",
              "povertyPercent             0.428083\n",
              "PctPublicCoverage          0.418348\n",
              "PctHS25_Over               0.406299\n",
              "PctUnemployed16_Over       0.379586\n",
              "PctHS18_24                 0.284848\n",
              "PctBlack                   0.260477\n",
              "PctNoHS18_24               0.076309\n",
              "MedianAgeFemale            0.030528\n",
              "MedianAge                  0.006193\n",
              "MedianAgeMale             -0.005364\n",
              "studyPerCap               -0.029654\n",
              "AvgHouseholdSize          -0.037925\n",
              "avgDeathsPerYear          -0.075079\n",
              "BirthRate                 -0.085489\n",
              "popEst2015                -0.115593\n",
              "avgAnnCount               -0.138106\n",
              "PctWhite                  -0.179109\n",
              "PctOtherRace              -0.187207\n",
              "PctAsian                  -0.202385\n",
              "PctSomeCol18_24           -0.216487\n",
              "PctEmpPrivCoverage        -0.259023\n",
              "PercentMarried            -0.274256\n",
              "PctBachDeg18_24           -0.288553\n",
              "PctMarriedHouseholds      -0.307359\n",
              "PctPrivateCoverageAlone   -0.364280\n",
              "PctPrivateCoverage        -0.383597\n",
              "PctEmployed16_Over        -0.419088\n",
              "medIncome                 -0.431586\n",
              "PctBachDeg25_Over         -0.481637\n",
              "Name: TARGET_deathRate, dtype: float64"
            ]
          },
          "metadata": {
            "tags": []
          },
          "execution_count": 120
        }
      ]
    },
    {
      "cell_type": "markdown",
      "metadata": {
        "id": "ulWkefTxxabU"
      },
      "source": [
        "1. Positive number indicate positively correlated.\r\n",
        "2. Negative number indicate negatively correlated.\r\n",
        "3. Zero indicate no relation."
      ]
    },
    {
      "cell_type": "markdown",
      "metadata": {
        "id": "-6Xcy9FeaWBd"
      },
      "source": [
        "### Separate the Input and Target Features of the data"
      ]
    },
    {
      "cell_type": "code",
      "metadata": {
        "id": "yxHNqG1PaWBd"
      },
      "source": [
        "X= cancer_data.drop(['TARGET_deathRate'], axis=1)\r\n",
        "y= cancer_data['TARGET_deathRate']"
      ],
      "execution_count": 121,
      "outputs": []
    },
    {
      "cell_type": "markdown",
      "metadata": {
        "id": "_mCpsT5kzIgn"
      },
      "source": [
        "Here X contains all features and y contain target series."
      ]
    },
    {
      "cell_type": "markdown",
      "metadata": {
        "id": "Bsyki2hjaWBd"
      },
      "source": [
        "### Split the data into Train and Test Sets"
      ]
    },
    {
      "cell_type": "code",
      "metadata": {
        "id": "nMPnzPZ2aWBd"
      },
      "source": [
        "X_train, X_test, y_train, y_test= train_test_split(X, y, test_size=0.2, random_state= 32)"
      ],
      "execution_count": 122,
      "outputs": []
    },
    {
      "cell_type": "markdown",
      "metadata": {
        "id": "xX9I3XjfzwGT"
      },
      "source": [
        "Here data is splited into train and test where train data is used to train model and test data is used to  evaluated model.\r\n",
        "20 percent of whole data is used for testing and  80 percent for training the model."
      ]
    },
    {
      "cell_type": "code",
      "metadata": {
        "colab": {
          "base_uri": "https://localhost:8080/"
        },
        "id": "_1iCsZfzzp6b",
        "outputId": "899a66a4-2739-4375-ef50-56e59725aa12"
      },
      "source": [
        "X_train.shape"
      ],
      "execution_count": 123,
      "outputs": [
        {
          "output_type": "execute_result",
          "data": {
            "text/plain": [
              "(1828, 33)"
            ]
          },
          "metadata": {
            "tags": []
          },
          "execution_count": 123
        }
      ]
    },
    {
      "cell_type": "code",
      "metadata": {
        "colab": {
          "base_uri": "https://localhost:8080/"
        },
        "id": "fwTpurV4zrmG",
        "outputId": "84669f1f-4967-481b-f0f3-e68364792ee6"
      },
      "source": [
        "X_test.shape"
      ],
      "execution_count": 124,
      "outputs": [
        {
          "output_type": "execute_result",
          "data": {
            "text/plain": [
              "(457, 33)"
            ]
          },
          "metadata": {
            "tags": []
          },
          "execution_count": 124
        }
      ]
    },
    {
      "cell_type": "markdown",
      "metadata": {
        "id": "o5UZz7b9I9eJ"
      },
      "source": [
        "## Task 2"
      ]
    },
    {
      "cell_type": "markdown",
      "metadata": {
        "id": "kNuCKaCkaWBd"
      },
      "source": [
        "### Perform Data Preparation Steps"
      ]
    },
    {
      "cell_type": "code",
      "metadata": {
        "id": "ITjRxfrilFaS"
      },
      "source": [
        "#Dropping object dtype columns\r\n",
        "def drop_column(data):\r\n",
        "  data=data.drop(['binnedInc', 'Geography','PctSomeCol18_24' ], axis=1)\r\n",
        "  return data\r\n",
        "X_train=drop_column(X_train)"
      ],
      "execution_count": 125,
      "outputs": []
    },
    {
      "cell_type": "code",
      "metadata": {
        "id": "gRMf_8AimyVc"
      },
      "source": [
        "def fillmissing(data):\r\n",
        "  for column in list(data.columns):\r\n",
        "    data= data.fillna(data[column].mean())\r\n",
        "  return data\r\n",
        "X_train=fillmissing(X_train)"
      ],
      "execution_count": 126,
      "outputs": []
    },
    {
      "cell_type": "code",
      "metadata": {
        "id": "YDVYgxpHscH8"
      },
      "source": [
        "#Applying same preprocessing to X_test\r\n",
        "X_test= drop_column(X_test)\r\n",
        "X_test=fillmissing(X_test)\r\n",
        "\r\n",
        "\r\n"
      ],
      "execution_count": 127,
      "outputs": []
    },
    {
      "cell_type": "markdown",
      "metadata": {
        "id": "3homAQVbaWBd"
      },
      "source": [
        "## Task 3"
      ]
    },
    {
      "cell_type": "markdown",
      "metadata": {
        "id": "M3GISQkNaWBd"
      },
      "source": [
        "### Build any Machine Learning Model of your choice"
      ]
    },
    {
      "cell_type": "code",
      "metadata": {
        "id": "JlNJAYvdaWBd"
      },
      "source": [
        "lrg= LinearRegression()\r\n",
        "lrg.fit(X_train, y_train)\r\n",
        "y_pred= lrg.predict(X_test)\r\n"
      ],
      "execution_count": 128,
      "outputs": []
    },
    {
      "cell_type": "markdown",
      "metadata": {
        "id": "GlytbSbgaWBd"
      },
      "source": [
        "### Evaluate your model with various Evaluation Metrics"
      ]
    },
    {
      "cell_type": "code",
      "metadata": {
        "id": "Jju88gE3aWBe",
        "colab": {
          "base_uri": "https://localhost:8080/"
        },
        "outputId": "8df02902-059e-4248-9b06-2f74e3be6100"
      },
      "source": [
        "print('MSE for train', mean_squared_error(y_train, lrg.predict(X_train)))\r\n",
        "print('\\n')\r\n",
        "print('MSE for test',mean_squared_error(y_test, y_pred))\r\n",
        "print('RMSE for test', np.sqrt(mean_squared_error(y_test, y_pred)))"
      ],
      "execution_count": 129,
      "outputs": [
        {
          "output_type": "stream",
          "text": [
            "MSE for train 354.2521333967486\n",
            "\n",
            "\n",
            "MSE for test 329.73407576817715\n",
            "RMSE for test 18.158581325868415\n"
          ],
          "name": "stdout"
        }
      ]
    },
    {
      "cell_type": "markdown",
      "metadata": {
        "id": "ZM1_hZ8PaWBe"
      },
      "source": [
        "### Try out other Machine Learning Models and Evaluate them"
      ]
    },
    {
      "cell_type": "code",
      "metadata": {
        "id": "WX8K9gDraWBe"
      },
      "source": [
        "forest= RandomForestRegressor(random_state=1)\r\n",
        "forest.fit(X_train, y_train)\r\n",
        "y_pred= forest.predict(X_test)"
      ],
      "execution_count": 130,
      "outputs": []
    },
    {
      "cell_type": "code",
      "metadata": {
        "colab": {
          "base_uri": "https://localhost:8080/"
        },
        "id": "IzfI4IzVv_cy",
        "outputId": "b220edf6-185c-4de5-f8ad-a4330190dee6"
      },
      "source": [
        "print('MSE for train', mean_squared_error(y_train, forest.predict(X_train)))\r\n",
        "print('\\n')\r\n",
        "\r\n",
        "print('MSE for test', mean_squared_error(y_test, y_pred))\r\n",
        "print('RMSE for test', np.sqrt(mean_squared_error(y_test, y_pred)))"
      ],
      "execution_count": 131,
      "outputs": [
        {
          "output_type": "stream",
          "text": [
            "MSE for train 49.711454728118134\n",
            "\n",
            "\n",
            "MSE for test 325.50670438074405\n",
            "RMSE for test 18.04180435490708\n"
          ],
          "name": "stdout"
        }
      ]
    },
    {
      "cell_type": "markdown",
      "metadata": {
        "id": "eVHZUyJqaWBe"
      },
      "source": [
        "## Task 4"
      ]
    },
    {
      "cell_type": "markdown",
      "metadata": {
        "id": "HODz7FJtaWBe"
      },
      "source": [
        "### Perform Hyperparameter Tuning"
      ]
    },
    {
      "cell_type": "code",
      "metadata": {
        "colab": {
          "base_uri": "https://localhost:8080/"
        },
        "id": "A_NWdvXqml81",
        "outputId": "cab0a085-6b4b-4b13-dd71-221105ed3558"
      },
      "source": [
        "rf= RandomForestRegressor(random_state=1)\r\n",
        "from sklearn.model_selection import GridSearchCV\r\n",
        "paragram={'bootstrap': [True],\r\n",
        "'max_depth': [10, 20],\r\n",
        "'min_samples_leaf': [3, 4],\r\n",
        "'min_samples_split': [4, 6],\r\n",
        "'n_estimators': [100, 200]\r\n",
        "}\r\n",
        "grid= GridSearchCV(rf, paragram, cv=3, n_jobs=-1, verbose=2)\r\n",
        "grid.fit(X_train, y_train)\r\n",
        "print(grid.best_params_)"
      ],
      "execution_count": 132,
      "outputs": [
        {
          "output_type": "stream",
          "text": [
            "Fitting 3 folds for each of 16 candidates, totalling 48 fits\n"
          ],
          "name": "stdout"
        },
        {
          "output_type": "stream",
          "text": [
            "[Parallel(n_jobs=-1)]: Using backend LokyBackend with 2 concurrent workers.\n",
            "[Parallel(n_jobs=-1)]: Done  37 tasks      | elapsed:  1.1min\n",
            "[Parallel(n_jobs=-1)]: Done  48 out of  48 | elapsed:  1.5min finished\n"
          ],
          "name": "stderr"
        },
        {
          "output_type": "stream",
          "text": [
            "{'bootstrap': True, 'max_depth': 20, 'min_samples_leaf': 3, 'min_samples_split': 4, 'n_estimators': 200}\n"
          ],
          "name": "stdout"
        }
      ]
    },
    {
      "cell_type": "markdown",
      "metadata": {
        "id": "d28iH4_MaWBe"
      },
      "source": [
        "### Evaluate your model "
      ]
    },
    {
      "cell_type": "code",
      "metadata": {
        "id": "wKq_Rxl3aWBe",
        "colab": {
          "base_uri": "https://localhost:8080/"
        },
        "outputId": "ac3c560c-2b57-4b7e-ab00-37a530576bba"
      },
      "source": [
        "rf= RandomForestRegressor(random_state=1, bootstrap=True, max_depth=20, min_samples_leaf=3,  min_samples_split=4, n_estimators=200)\r\n",
        "rf.fit(X_train, y_train)\r\n",
        "print('MSE For train', mean_squared_error(y_train, rf.predict(X_train)))\r\n",
        "print('\\n')\r\n",
        "print('MSE for test', mean_squared_error(y_test, rf.predict(X_test)))\r\n",
        "print('RMSE for test', np.sqrt(mean_squared_error(y_test, rf.predict(X_test))))"
      ],
      "execution_count": 133,
      "outputs": [
        {
          "output_type": "stream",
          "text": [
            "MSE For train 86.8717348276541\n",
            "\n",
            "\n",
            "MSE for test 316.1851845209761\n",
            "RMSE for test 17.781596793341595\n"
          ],
          "name": "stdout"
        }
      ]
    },
    {
      "cell_type": "markdown",
      "metadata": {
        "id": "psVszfmDaWBe"
      },
      "source": [
        "## Task 5"
      ]
    },
    {
      "cell_type": "markdown",
      "metadata": {
        "id": "ZB-XnSkSaWBe"
      },
      "source": [
        "### Use any Feature Selection Technique and observe if the model created by selected features performs better than the previous model"
      ]
    },
    {
      "cell_type": "code",
      "metadata": {
        "id": "Tq9SRrQQKZUe",
        "colab": {
          "base_uri": "https://localhost:8080/"
        },
        "outputId": "53866369-77a4-4c93-8b72-8277df471a7a"
      },
      "source": [
        "!pip install Boruta"
      ],
      "execution_count": 134,
      "outputs": [
        {
          "output_type": "stream",
          "text": [
            "Requirement already satisfied: Boruta in /usr/local/lib/python3.6/dist-packages (0.3)\n",
            "Requirement already satisfied: scikit-learn>=0.17.1 in /usr/local/lib/python3.6/dist-packages (from Boruta) (0.22.2.post1)\n",
            "Requirement already satisfied: scipy>=0.17.0 in /usr/local/lib/python3.6/dist-packages (from Boruta) (1.4.1)\n",
            "Requirement already satisfied: numpy>=1.10.4 in /usr/local/lib/python3.6/dist-packages (from Boruta) (1.19.4)\n",
            "Requirement already satisfied: joblib>=0.11 in /usr/local/lib/python3.6/dist-packages (from scikit-learn>=0.17.1->Boruta) (1.0.0)\n"
          ],
          "name": "stdout"
        }
      ]
    },
    {
      "cell_type": "code",
      "metadata": {
        "id": "5JZJC9aPaWBe",
        "colab": {
          "base_uri": "https://localhost:8080/"
        },
        "outputId": "73165385-6cef-4d78-b765-82efe6a29518"
      },
      "source": [
        "from sklearn.feature_selection import SelectFromModel\r\n",
        "\r\n",
        "\r\n",
        "from boruta import BorutaPy\r\n",
        "\r\n",
        "# define random forest regressor\r\n",
        "forest = RandomForestRegressor(random_state=1)\r\n",
        " \r\n",
        "forest.fit(X_train, y_train)\r\n",
        "print('Baseline model')\r\n",
        "print('mean squared error of train', mean_squared_error(y_train, forest.predict(X_train)))\r\n",
        "print('mean squared error of test', mean_squared_error(y_test, forest.predict(X_test)))\r\n",
        "print('RMSE of train', np.sqrt(mean_squared_error(y_train, forest.predict(X_train))))\r\n",
        "print('RMSE of test', np.sqrt(mean_squared_error(y_test, forest.predict(X_test))))"
      ],
      "execution_count": 135,
      "outputs": [
        {
          "output_type": "stream",
          "text": [
            "Baseline model\n",
            "mean squared error of train 49.711454728118134\n",
            "mean squared error of test 325.50670438074405\n",
            "RMSE of train 7.05063505849779\n",
            "RMSE of test 18.04180435490708\n"
          ],
          "name": "stdout"
        }
      ]
    },
    {
      "cell_type": "code",
      "metadata": {
        "colab": {
          "base_uri": "https://localhost:8080/"
        },
        "id": "7GJs6ZF2jN9W",
        "outputId": "4ab19d3d-8b4c-4ae0-f974-de9b1a4d50b7"
      },
      "source": [
        "# define Boruta feature selection method\r\n",
        "# boruta_selector = BorutaPy(forest, n_estimators='auto', verbose=2)\r\n",
        "boruta_selector = BorutaPy(forest, n_estimators='auto', verbose=2, random_state=1)\r\n",
        "\r\n",
        "# find all relevant features\r\n",
        "boruta_selector.fit(np.array(X_train), np.array(y_train))"
      ],
      "execution_count": 136,
      "outputs": [
        {
          "output_type": "stream",
          "text": [
            "Iteration: \t1 / 100\n",
            "Confirmed: \t0\n",
            "Tentative: \t30\n",
            "Rejected: \t0\n",
            "Iteration: \t2 / 100\n",
            "Confirmed: \t0\n",
            "Tentative: \t30\n",
            "Rejected: \t0\n",
            "Iteration: \t3 / 100\n",
            "Confirmed: \t0\n",
            "Tentative: \t30\n",
            "Rejected: \t0\n",
            "Iteration: \t4 / 100\n",
            "Confirmed: \t0\n",
            "Tentative: \t30\n",
            "Rejected: \t0\n",
            "Iteration: \t5 / 100\n",
            "Confirmed: \t0\n",
            "Tentative: \t30\n",
            "Rejected: \t0\n",
            "Iteration: \t6 / 100\n",
            "Confirmed: \t0\n",
            "Tentative: \t30\n",
            "Rejected: \t0\n",
            "Iteration: \t7 / 100\n",
            "Confirmed: \t0\n",
            "Tentative: \t30\n",
            "Rejected: \t0\n",
            "Iteration: \t8 / 100\n",
            "Confirmed: \t11\n",
            "Tentative: \t11\n",
            "Rejected: \t8\n",
            "Iteration: \t9 / 100\n",
            "Confirmed: \t11\n",
            "Tentative: \t11\n",
            "Rejected: \t8\n",
            "Iteration: \t10 / 100\n",
            "Confirmed: \t11\n",
            "Tentative: \t11\n",
            "Rejected: \t8\n",
            "Iteration: \t11 / 100\n",
            "Confirmed: \t11\n",
            "Tentative: \t11\n",
            "Rejected: \t8\n",
            "Iteration: \t12 / 100\n",
            "Confirmed: \t13\n",
            "Tentative: \t9\n",
            "Rejected: \t8\n",
            "Iteration: \t13 / 100\n",
            "Confirmed: \t13\n",
            "Tentative: \t9\n",
            "Rejected: \t8\n",
            "Iteration: \t14 / 100\n",
            "Confirmed: \t13\n",
            "Tentative: \t9\n",
            "Rejected: \t8\n",
            "Iteration: \t15 / 100\n",
            "Confirmed: \t13\n",
            "Tentative: \t9\n",
            "Rejected: \t8\n",
            "Iteration: \t16 / 100\n",
            "Confirmed: \t14\n",
            "Tentative: \t8\n",
            "Rejected: \t8\n",
            "Iteration: \t17 / 100\n",
            "Confirmed: \t14\n",
            "Tentative: \t8\n",
            "Rejected: \t8\n",
            "Iteration: \t18 / 100\n",
            "Confirmed: \t14\n",
            "Tentative: \t8\n",
            "Rejected: \t8\n",
            "Iteration: \t19 / 100\n",
            "Confirmed: \t14\n",
            "Tentative: \t8\n",
            "Rejected: \t8\n",
            "Iteration: \t20 / 100\n",
            "Confirmed: \t14\n",
            "Tentative: \t8\n",
            "Rejected: \t8\n",
            "Iteration: \t21 / 100\n",
            "Confirmed: \t14\n",
            "Tentative: \t8\n",
            "Rejected: \t8\n",
            "Iteration: \t22 / 100\n",
            "Confirmed: \t15\n",
            "Tentative: \t6\n",
            "Rejected: \t9\n",
            "Iteration: \t23 / 100\n",
            "Confirmed: \t15\n",
            "Tentative: \t6\n",
            "Rejected: \t9\n",
            "Iteration: \t24 / 100\n",
            "Confirmed: \t15\n",
            "Tentative: \t6\n",
            "Rejected: \t9\n",
            "Iteration: \t25 / 100\n",
            "Confirmed: \t15\n",
            "Tentative: \t6\n",
            "Rejected: \t9\n",
            "Iteration: \t26 / 100\n",
            "Confirmed: \t15\n",
            "Tentative: \t6\n",
            "Rejected: \t9\n",
            "Iteration: \t27 / 100\n",
            "Confirmed: \t15\n",
            "Tentative: \t6\n",
            "Rejected: \t9\n",
            "Iteration: \t28 / 100\n",
            "Confirmed: \t15\n",
            "Tentative: \t6\n",
            "Rejected: \t9\n",
            "Iteration: \t29 / 100\n",
            "Confirmed: \t15\n",
            "Tentative: \t6\n",
            "Rejected: \t9\n",
            "Iteration: \t30 / 100\n",
            "Confirmed: \t15\n",
            "Tentative: \t6\n",
            "Rejected: \t9\n",
            "Iteration: \t31 / 100\n",
            "Confirmed: \t15\n",
            "Tentative: \t6\n",
            "Rejected: \t9\n",
            "Iteration: \t32 / 100\n",
            "Confirmed: \t15\n",
            "Tentative: \t6\n",
            "Rejected: \t9\n",
            "Iteration: \t33 / 100\n",
            "Confirmed: \t15\n",
            "Tentative: \t6\n",
            "Rejected: \t9\n",
            "Iteration: \t34 / 100\n",
            "Confirmed: \t15\n",
            "Tentative: \t6\n",
            "Rejected: \t9\n",
            "Iteration: \t35 / 100\n",
            "Confirmed: \t15\n",
            "Tentative: \t6\n",
            "Rejected: \t9\n",
            "Iteration: \t36 / 100\n",
            "Confirmed: \t15\n",
            "Tentative: \t6\n",
            "Rejected: \t9\n",
            "Iteration: \t37 / 100\n",
            "Confirmed: \t15\n",
            "Tentative: \t6\n",
            "Rejected: \t9\n",
            "Iteration: \t38 / 100\n",
            "Confirmed: \t15\n",
            "Tentative: \t6\n",
            "Rejected: \t9\n",
            "Iteration: \t39 / 100\n",
            "Confirmed: \t15\n",
            "Tentative: \t6\n",
            "Rejected: \t9\n",
            "Iteration: \t40 / 100\n",
            "Confirmed: \t16\n",
            "Tentative: \t5\n",
            "Rejected: \t9\n",
            "Iteration: \t41 / 100\n",
            "Confirmed: \t16\n",
            "Tentative: \t5\n",
            "Rejected: \t9\n",
            "Iteration: \t42 / 100\n",
            "Confirmed: \t16\n",
            "Tentative: \t5\n",
            "Rejected: \t9\n",
            "Iteration: \t43 / 100\n",
            "Confirmed: \t16\n",
            "Tentative: \t5\n",
            "Rejected: \t9\n",
            "Iteration: \t44 / 100\n",
            "Confirmed: \t16\n",
            "Tentative: \t5\n",
            "Rejected: \t9\n",
            "Iteration: \t45 / 100\n",
            "Confirmed: \t16\n",
            "Tentative: \t5\n",
            "Rejected: \t9\n",
            "Iteration: \t46 / 100\n",
            "Confirmed: \t17\n",
            "Tentative: \t4\n",
            "Rejected: \t9\n",
            "Iteration: \t47 / 100\n",
            "Confirmed: \t17\n",
            "Tentative: \t4\n",
            "Rejected: \t9\n",
            "Iteration: \t48 / 100\n",
            "Confirmed: \t17\n",
            "Tentative: \t4\n",
            "Rejected: \t9\n",
            "Iteration: \t49 / 100\n",
            "Confirmed: \t17\n",
            "Tentative: \t4\n",
            "Rejected: \t9\n",
            "Iteration: \t50 / 100\n",
            "Confirmed: \t17\n",
            "Tentative: \t4\n",
            "Rejected: \t9\n",
            "Iteration: \t51 / 100\n",
            "Confirmed: \t17\n",
            "Tentative: \t4\n",
            "Rejected: \t9\n",
            "Iteration: \t52 / 100\n",
            "Confirmed: \t17\n",
            "Tentative: \t4\n",
            "Rejected: \t9\n",
            "Iteration: \t53 / 100\n",
            "Confirmed: \t17\n",
            "Tentative: \t4\n",
            "Rejected: \t9\n",
            "Iteration: \t54 / 100\n",
            "Confirmed: \t17\n",
            "Tentative: \t3\n",
            "Rejected: \t10\n",
            "Iteration: \t55 / 100\n",
            "Confirmed: \t17\n",
            "Tentative: \t3\n",
            "Rejected: \t10\n",
            "Iteration: \t56 / 100\n",
            "Confirmed: \t17\n",
            "Tentative: \t3\n",
            "Rejected: \t10\n",
            "Iteration: \t57 / 100\n",
            "Confirmed: \t17\n",
            "Tentative: \t2\n",
            "Rejected: \t11\n",
            "Iteration: \t58 / 100\n",
            "Confirmed: \t17\n",
            "Tentative: \t2\n",
            "Rejected: \t11\n",
            "Iteration: \t59 / 100\n",
            "Confirmed: \t17\n",
            "Tentative: \t2\n",
            "Rejected: \t11\n",
            "Iteration: \t60 / 100\n",
            "Confirmed: \t17\n",
            "Tentative: \t2\n",
            "Rejected: \t11\n",
            "Iteration: \t61 / 100\n",
            "Confirmed: \t17\n",
            "Tentative: \t2\n",
            "Rejected: \t11\n",
            "Iteration: \t62 / 100\n",
            "Confirmed: \t17\n",
            "Tentative: \t2\n",
            "Rejected: \t11\n",
            "Iteration: \t63 / 100\n",
            "Confirmed: \t17\n",
            "Tentative: \t2\n",
            "Rejected: \t11\n",
            "Iteration: \t64 / 100\n",
            "Confirmed: \t17\n",
            "Tentative: \t2\n",
            "Rejected: \t11\n",
            "Iteration: \t65 / 100\n",
            "Confirmed: \t17\n",
            "Tentative: \t2\n",
            "Rejected: \t11\n",
            "Iteration: \t66 / 100\n",
            "Confirmed: \t17\n",
            "Tentative: \t2\n",
            "Rejected: \t11\n",
            "Iteration: \t67 / 100\n",
            "Confirmed: \t17\n",
            "Tentative: \t2\n",
            "Rejected: \t11\n",
            "Iteration: \t68 / 100\n",
            "Confirmed: \t17\n",
            "Tentative: \t2\n",
            "Rejected: \t11\n",
            "Iteration: \t69 / 100\n",
            "Confirmed: \t17\n",
            "Tentative: \t2\n",
            "Rejected: \t11\n",
            "Iteration: \t70 / 100\n",
            "Confirmed: \t17\n",
            "Tentative: \t2\n",
            "Rejected: \t11\n",
            "Iteration: \t71 / 100\n",
            "Confirmed: \t17\n",
            "Tentative: \t2\n",
            "Rejected: \t11\n",
            "Iteration: \t72 / 100\n",
            "Confirmed: \t17\n",
            "Tentative: \t2\n",
            "Rejected: \t11\n",
            "Iteration: \t73 / 100\n",
            "Confirmed: \t17\n",
            "Tentative: \t2\n",
            "Rejected: \t11\n",
            "Iteration: \t74 / 100\n",
            "Confirmed: \t17\n",
            "Tentative: \t2\n",
            "Rejected: \t11\n",
            "Iteration: \t75 / 100\n",
            "Confirmed: \t17\n",
            "Tentative: \t2\n",
            "Rejected: \t11\n",
            "Iteration: \t76 / 100\n",
            "Confirmed: \t17\n",
            "Tentative: \t2\n",
            "Rejected: \t11\n",
            "Iteration: \t77 / 100\n",
            "Confirmed: \t17\n",
            "Tentative: \t2\n",
            "Rejected: \t11\n",
            "Iteration: \t78 / 100\n",
            "Confirmed: \t17\n",
            "Tentative: \t2\n",
            "Rejected: \t11\n",
            "Iteration: \t79 / 100\n",
            "Confirmed: \t17\n",
            "Tentative: \t2\n",
            "Rejected: \t11\n",
            "Iteration: \t80 / 100\n",
            "Confirmed: \t17\n",
            "Tentative: \t2\n",
            "Rejected: \t11\n",
            "Iteration: \t81 / 100\n",
            "Confirmed: \t17\n",
            "Tentative: \t2\n",
            "Rejected: \t11\n",
            "Iteration: \t82 / 100\n",
            "Confirmed: \t17\n",
            "Tentative: \t2\n",
            "Rejected: \t11\n",
            "Iteration: \t83 / 100\n",
            "Confirmed: \t17\n",
            "Tentative: \t2\n",
            "Rejected: \t11\n",
            "Iteration: \t84 / 100\n",
            "Confirmed: \t17\n",
            "Tentative: \t2\n",
            "Rejected: \t11\n",
            "Iteration: \t85 / 100\n",
            "Confirmed: \t17\n",
            "Tentative: \t2\n",
            "Rejected: \t11\n",
            "Iteration: \t86 / 100\n",
            "Confirmed: \t17\n",
            "Tentative: \t2\n",
            "Rejected: \t11\n",
            "Iteration: \t87 / 100\n",
            "Confirmed: \t17\n",
            "Tentative: \t2\n",
            "Rejected: \t11\n",
            "Iteration: \t88 / 100\n",
            "Confirmed: \t17\n",
            "Tentative: \t2\n",
            "Rejected: \t11\n",
            "Iteration: \t89 / 100\n",
            "Confirmed: \t17\n",
            "Tentative: \t2\n",
            "Rejected: \t11\n",
            "Iteration: \t90 / 100\n",
            "Confirmed: \t17\n",
            "Tentative: \t2\n",
            "Rejected: \t11\n",
            "Iteration: \t91 / 100\n",
            "Confirmed: \t17\n",
            "Tentative: \t2\n",
            "Rejected: \t11\n",
            "Iteration: \t92 / 100\n",
            "Confirmed: \t17\n",
            "Tentative: \t2\n",
            "Rejected: \t11\n",
            "Iteration: \t93 / 100\n",
            "Confirmed: \t17\n",
            "Tentative: \t2\n",
            "Rejected: \t11\n",
            "Iteration: \t94 / 100\n",
            "Confirmed: \t17\n",
            "Tentative: \t2\n",
            "Rejected: \t11\n",
            "Iteration: \t95 / 100\n",
            "Confirmed: \t17\n",
            "Tentative: \t2\n",
            "Rejected: \t11\n",
            "Iteration: \t96 / 100\n",
            "Confirmed: \t17\n",
            "Tentative: \t2\n",
            "Rejected: \t11\n",
            "Iteration: \t97 / 100\n",
            "Confirmed: \t17\n",
            "Tentative: \t2\n",
            "Rejected: \t11\n",
            "Iteration: \t98 / 100\n",
            "Confirmed: \t17\n",
            "Tentative: \t2\n",
            "Rejected: \t11\n",
            "Iteration: \t99 / 100\n",
            "Confirmed: \t17\n",
            "Tentative: \t2\n",
            "Rejected: \t11\n",
            "\n",
            "\n",
            "BorutaPy finished running.\n",
            "\n",
            "Iteration: \t100 / 100\n",
            "Confirmed: \t17\n",
            "Tentative: \t0\n",
            "Rejected: \t11\n"
          ],
          "name": "stdout"
        },
        {
          "output_type": "execute_result",
          "data": {
            "text/plain": [
              "BorutaPy(alpha=0.05,\n",
              "         estimator=RandomForestRegressor(bootstrap=True, ccp_alpha=0.0,\n",
              "                                         criterion='mse', max_depth=None,\n",
              "                                         max_features='auto',\n",
              "                                         max_leaf_nodes=None, max_samples=None,\n",
              "                                         min_impurity_decrease=0.0,\n",
              "                                         min_impurity_split=None,\n",
              "                                         min_samples_leaf=1,\n",
              "                                         min_samples_split=2,\n",
              "                                         min_weight_fraction_leaf=0.0,\n",
              "                                         n_estimators=61, n_jobs=None,\n",
              "                                         oob_score=False,\n",
              "                                         random_state=RandomState(MT19937) at 0x7F9D9C839DB0,\n",
              "                                         verbose=0, warm_start=False),\n",
              "         max_iter=100, n_estimators='auto', perc=100,\n",
              "         random_state=RandomState(MT19937) at 0x7F9D9C839DB0, two_step=True,\n",
              "         verbose=2)"
            ]
          },
          "metadata": {
            "tags": []
          },
          "execution_count": 136
        }
      ]
    },
    {
      "cell_type": "code",
      "metadata": {
        "colab": {
          "base_uri": "https://localhost:8080/"
        },
        "id": "XyM5WhwjjVA0",
        "outputId": "6bbeaa5a-bbae-4f07-9cb8-4cd3f9a4f601"
      },
      "source": [
        "# check selected features\r\n",
        "print(\"Selected Features: \", boruta_selector.support_)\r\n",
        " \r\n",
        "# check ranking of features\r\n",
        "print(\"Ranking: \",boruta_selector.ranking_)\r\n",
        "\r\n",
        "print(\"No. of significant features: \", boruta_selector.n_features_)"
      ],
      "execution_count": 137,
      "outputs": [
        {
          "output_type": "stream",
          "text": [
            "Selected Features:  [False  True  True  True  True  True False False False  True  True False\n",
            " False  True False  True  True  True  True  True False False False  True\n",
            " False  True False  True  True False]\n",
            "Ranking:  [ 6  1  1  1  1  1 13 10 11  1  1  2  7  1  4  1  1  1  1  1 12  9  9  1\n",
            "  4  1  5  1  1  2]\n",
            "No. of significant features:  17\n"
          ],
          "name": "stdout"
        }
      ]
    },
    {
      "cell_type": "code",
      "metadata": {
        "colab": {
          "base_uri": "https://localhost:8080/",
          "height": 948
        },
        "id": "_fZ_RYGgjYm4",
        "outputId": "eba86cce-becc-49ac-8842-b4d6d85a8afb"
      },
      "source": [
        "# Let's visualise it better in the form of a table\r\n",
        "selected_rfe_features = pd.DataFrame({'Feature':list(X_train.columns),\r\n",
        "                                      'Ranking':boruta_selector.ranking_})\r\n",
        "selected_rfe_features.sort_values(by='Ranking')"
      ],
      "execution_count": 138,
      "outputs": [
        {
          "output_type": "execute_result",
          "data": {
            "text/html": [
              "<div>\n",
              "<style scoped>\n",
              "    .dataframe tbody tr th:only-of-type {\n",
              "        vertical-align: middle;\n",
              "    }\n",
              "\n",
              "    .dataframe tbody tr th {\n",
              "        vertical-align: top;\n",
              "    }\n",
              "\n",
              "    .dataframe thead th {\n",
              "        text-align: right;\n",
              "    }\n",
              "</style>\n",
              "<table border=\"1\" class=\"dataframe\">\n",
              "  <thead>\n",
              "    <tr style=\"text-align: right;\">\n",
              "      <th></th>\n",
              "      <th>Feature</th>\n",
              "      <th>Ranking</th>\n",
              "    </tr>\n",
              "  </thead>\n",
              "  <tbody>\n",
              "    <tr>\n",
              "      <th>9</th>\n",
              "      <td>MedianAgeFemale</td>\n",
              "      <td>1</td>\n",
              "    </tr>\n",
              "    <tr>\n",
              "      <th>17</th>\n",
              "      <td>PctEmployed16_Over</td>\n",
              "      <td>1</td>\n",
              "    </tr>\n",
              "    <tr>\n",
              "      <th>16</th>\n",
              "      <td>PctBachDeg25_Over</td>\n",
              "      <td>1</td>\n",
              "    </tr>\n",
              "    <tr>\n",
              "      <th>15</th>\n",
              "      <td>PctHS25_Over</td>\n",
              "      <td>1</td>\n",
              "    </tr>\n",
              "    <tr>\n",
              "      <th>28</th>\n",
              "      <td>PctMarriedHouseholds</td>\n",
              "      <td>1</td>\n",
              "    </tr>\n",
              "    <tr>\n",
              "      <th>13</th>\n",
              "      <td>PctHS18_24</td>\n",
              "      <td>1</td>\n",
              "    </tr>\n",
              "    <tr>\n",
              "      <th>23</th>\n",
              "      <td>PctPublicCoverageAlone</td>\n",
              "      <td>1</td>\n",
              "    </tr>\n",
              "    <tr>\n",
              "      <th>10</th>\n",
              "      <td>AvgHouseholdSize</td>\n",
              "      <td>1</td>\n",
              "    </tr>\n",
              "    <tr>\n",
              "      <th>18</th>\n",
              "      <td>PctUnemployed16_Over</td>\n",
              "      <td>1</td>\n",
              "    </tr>\n",
              "    <tr>\n",
              "      <th>19</th>\n",
              "      <td>PctPrivateCoverage</td>\n",
              "      <td>1</td>\n",
              "    </tr>\n",
              "    <tr>\n",
              "      <th>25</th>\n",
              "      <td>PctBlack</td>\n",
              "      <td>1</td>\n",
              "    </tr>\n",
              "    <tr>\n",
              "      <th>27</th>\n",
              "      <td>PctOtherRace</td>\n",
              "      <td>1</td>\n",
              "    </tr>\n",
              "    <tr>\n",
              "      <th>5</th>\n",
              "      <td>povertyPercent</td>\n",
              "      <td>1</td>\n",
              "    </tr>\n",
              "    <tr>\n",
              "      <th>4</th>\n",
              "      <td>popEst2015</td>\n",
              "      <td>1</td>\n",
              "    </tr>\n",
              "    <tr>\n",
              "      <th>3</th>\n",
              "      <td>medIncome</td>\n",
              "      <td>1</td>\n",
              "    </tr>\n",
              "    <tr>\n",
              "      <th>2</th>\n",
              "      <td>incidenceRate</td>\n",
              "      <td>1</td>\n",
              "    </tr>\n",
              "    <tr>\n",
              "      <th>1</th>\n",
              "      <td>avgDeathsPerYear</td>\n",
              "      <td>1</td>\n",
              "    </tr>\n",
              "    <tr>\n",
              "      <th>11</th>\n",
              "      <td>PercentMarried</td>\n",
              "      <td>2</td>\n",
              "    </tr>\n",
              "    <tr>\n",
              "      <th>29</th>\n",
              "      <td>BirthRate</td>\n",
              "      <td>2</td>\n",
              "    </tr>\n",
              "    <tr>\n",
              "      <th>24</th>\n",
              "      <td>PctWhite</td>\n",
              "      <td>4</td>\n",
              "    </tr>\n",
              "    <tr>\n",
              "      <th>14</th>\n",
              "      <td>PctBachDeg18_24</td>\n",
              "      <td>4</td>\n",
              "    </tr>\n",
              "    <tr>\n",
              "      <th>26</th>\n",
              "      <td>PctAsian</td>\n",
              "      <td>5</td>\n",
              "    </tr>\n",
              "    <tr>\n",
              "      <th>0</th>\n",
              "      <td>avgAnnCount</td>\n",
              "      <td>6</td>\n",
              "    </tr>\n",
              "    <tr>\n",
              "      <th>12</th>\n",
              "      <td>PctNoHS18_24</td>\n",
              "      <td>7</td>\n",
              "    </tr>\n",
              "    <tr>\n",
              "      <th>21</th>\n",
              "      <td>PctEmpPrivCoverage</td>\n",
              "      <td>9</td>\n",
              "    </tr>\n",
              "    <tr>\n",
              "      <th>22</th>\n",
              "      <td>PctPublicCoverage</td>\n",
              "      <td>9</td>\n",
              "    </tr>\n",
              "    <tr>\n",
              "      <th>7</th>\n",
              "      <td>MedianAge</td>\n",
              "      <td>10</td>\n",
              "    </tr>\n",
              "    <tr>\n",
              "      <th>8</th>\n",
              "      <td>MedianAgeMale</td>\n",
              "      <td>11</td>\n",
              "    </tr>\n",
              "    <tr>\n",
              "      <th>20</th>\n",
              "      <td>PctPrivateCoverageAlone</td>\n",
              "      <td>12</td>\n",
              "    </tr>\n",
              "    <tr>\n",
              "      <th>6</th>\n",
              "      <td>studyPerCap</td>\n",
              "      <td>13</td>\n",
              "    </tr>\n",
              "  </tbody>\n",
              "</table>\n",
              "</div>"
            ],
            "text/plain": [
              "                    Feature  Ranking\n",
              "9           MedianAgeFemale        1\n",
              "17       PctEmployed16_Over        1\n",
              "16        PctBachDeg25_Over        1\n",
              "15             PctHS25_Over        1\n",
              "28     PctMarriedHouseholds        1\n",
              "13               PctHS18_24        1\n",
              "23   PctPublicCoverageAlone        1\n",
              "10         AvgHouseholdSize        1\n",
              "18     PctUnemployed16_Over        1\n",
              "19       PctPrivateCoverage        1\n",
              "25                 PctBlack        1\n",
              "27             PctOtherRace        1\n",
              "5            povertyPercent        1\n",
              "4                popEst2015        1\n",
              "3                 medIncome        1\n",
              "2             incidenceRate        1\n",
              "1          avgDeathsPerYear        1\n",
              "11           PercentMarried        2\n",
              "29                BirthRate        2\n",
              "24                 PctWhite        4\n",
              "14          PctBachDeg18_24        4\n",
              "26                 PctAsian        5\n",
              "0               avgAnnCount        6\n",
              "12             PctNoHS18_24        7\n",
              "21       PctEmpPrivCoverage        9\n",
              "22        PctPublicCoverage        9\n",
              "7                 MedianAge       10\n",
              "8             MedianAgeMale       11\n",
              "20  PctPrivateCoverageAlone       12\n",
              "6               studyPerCap       13"
            ]
          },
          "metadata": {
            "tags": []
          },
          "execution_count": 138
        }
      ]
    },
    {
      "cell_type": "code",
      "metadata": {
        "id": "_0V5Zw_FoIUp"
      },
      "source": [
        "X_important_train = boruta_selector.transform(np.array(X_train))\r\n",
        "X_important_test = boruta_selector.transform(np.array(X_test))"
      ],
      "execution_count": 139,
      "outputs": []
    },
    {
      "cell_type": "code",
      "metadata": {
        "colab": {
          "base_uri": "https://localhost:8080/"
        },
        "id": "O3YXZ09tqvHP",
        "outputId": "9bfe7ab3-cd10-40e6-de7e-8698cd51be6d"
      },
      "source": [
        "# Create a new random forest regressor for the most important features\r\n",
        "rf_important = RandomForestRegressor(n_estimators=10000, random_state=1, n_jobs=-1)\r\n",
        "\r\n",
        "# Train the new classifier on the new dataset containing the most important features\r\n",
        "rf_important.fit(X_important_train, y_train)"
      ],
      "execution_count": 140,
      "outputs": [
        {
          "output_type": "execute_result",
          "data": {
            "text/plain": [
              "RandomForestRegressor(bootstrap=True, ccp_alpha=0.0, criterion='mse',\n",
              "                      max_depth=None, max_features='auto', max_leaf_nodes=None,\n",
              "                      max_samples=None, min_impurity_decrease=0.0,\n",
              "                      min_impurity_split=None, min_samples_leaf=1,\n",
              "                      min_samples_split=2, min_weight_fraction_leaf=0.0,\n",
              "                      n_estimators=10000, n_jobs=-1, oob_score=False,\n",
              "                      random_state=1, verbose=0, warm_start=False)"
            ]
          },
          "metadata": {
            "tags": []
          },
          "execution_count": 140
        }
      ]
    },
    {
      "cell_type": "code",
      "metadata": {
        "colab": {
          "base_uri": "https://localhost:8080/"
        },
        "id": "KjSN25t2q0eA",
        "outputId": "007b14db-016b-4249-af2e-98cd5d317b38"
      },
      "source": [
        "# Apply The Limited Featured regressor To The Test Data\r\n",
        "y_important_pred = rf_important.predict(X_important_test)\r\n",
        "\r\n",
        "print('mean squared error of train', mean_squared_error(y_train, rf_important.predict(X_important_train)))\r\n",
        "print('RMSE of train', np.sqrt(mean_squared_error(y_train, rf_important.predict(X_important_train))))\r\n",
        "print('\\n')\r\n",
        "print('mean squared error of test', mean_squared_error(y_test, rf_important.predict(X_important_test)))\r\n",
        "\r\n",
        "print('RMSE of test', np.sqrt(mean_squared_error(y_test, rf_important.predict(X_important_test))))\r\n"
      ],
      "execution_count": 141,
      "outputs": [
        {
          "output_type": "stream",
          "text": [
            "mean squared error of train 47.01963624454887\n",
            "RMSE of train 6.8570865711721085\n",
            "\n",
            "\n",
            "mean squared error of test 317.7435412514737\n",
            "RMSE of test 17.825362303512197\n"
          ],
          "name": "stdout"
        }
      ]
    },
    {
      "cell_type": "markdown",
      "metadata": {
        "id": "GbMoOu6Csv0G"
      },
      "source": [
        "There is not any huge change by feature selection"
      ]
    },
    {
      "cell_type": "code",
      "metadata": {
        "id": "ksp6JLzywZYk"
      },
      "source": [
        "test_data = pd.read_csv('https://raw.githubusercontent.com/dphi-official/Datasets/master/cancer_death_rate/Testing_set_label.csv')"
      ],
      "execution_count": 142,
      "outputs": []
    },
    {
      "cell_type": "code",
      "metadata": {
        "id": "0XHVcKQbxGkn"
      },
      "source": [
        "test_data= drop_column(test_data)\r\n",
        "test_data= fillmissing(test_data)"
      ],
      "execution_count": 143,
      "outputs": []
    },
    {
      "cell_type": "code",
      "metadata": {
        "id": "kr6iE6FvwSBx"
      },
      "source": [
        "X_important_test = boruta_selector.transform(np.array(test_data))"
      ],
      "execution_count": 145,
      "outputs": []
    },
    {
      "cell_type": "code",
      "metadata": {
        "id": "dmMMFZQhwRuH"
      },
      "source": [
        "y_important_pred = rf_important.predict(X_important_test)"
      ],
      "execution_count": 146,
      "outputs": []
    },
    {
      "cell_type": "code",
      "metadata": {
        "id": "Kvh-WQKoxocI"
      },
      "source": [
        ""
      ],
      "execution_count": null,
      "outputs": []
    },
    {
      "cell_type": "code",
      "metadata": {
        "id": "lGTjMe1gwPvL"
      },
      "source": [
        ""
      ],
      "execution_count": null,
      "outputs": []
    },
    {
      "cell_type": "code",
      "metadata": {
        "colab": {
          "base_uri": "https://localhost:8080/",
          "height": 17
        },
        "id": "--nWPGSywL6U",
        "outputId": "5063f212-aa21-4791-cc68-a7cdb4210598"
      },
      "source": [
        "# To create Dataframe of predicted value with particular respective index\r\n",
        "res = pd.DataFrame(y_important_pred)\r\n",
        "res.index = test_data.index # its important for comparison\r\n",
        "res.columns = [\"prediction\"]\r\n",
        "\r\n",
        "# To download the csv file locally\r\n",
        "from google.colab import files\r\n",
        "res.to_csv('prediction8.csv', index=False)         \r\n",
        "files.download('prediction8.csv')"
      ],
      "execution_count": 149,
      "outputs": [
        {
          "output_type": "display_data",
          "data": {
            "application/javascript": [
              "\n",
              "    async function download(id, filename, size) {\n",
              "      if (!google.colab.kernel.accessAllowed) {\n",
              "        return;\n",
              "      }\n",
              "      const div = document.createElement('div');\n",
              "      const label = document.createElement('label');\n",
              "      label.textContent = `Downloading \"${filename}\": `;\n",
              "      div.appendChild(label);\n",
              "      const progress = document.createElement('progress');\n",
              "      progress.max = size;\n",
              "      div.appendChild(progress);\n",
              "      document.body.appendChild(div);\n",
              "\n",
              "      const buffers = [];\n",
              "      let downloaded = 0;\n",
              "\n",
              "      const channel = await google.colab.kernel.comms.open(id);\n",
              "      // Send a message to notify the kernel that we're ready.\n",
              "      channel.send({})\n",
              "\n",
              "      for await (const message of channel.messages) {\n",
              "        // Send a message to notify the kernel that we're ready.\n",
              "        channel.send({})\n",
              "        if (message.buffers) {\n",
              "          for (const buffer of message.buffers) {\n",
              "            buffers.push(buffer);\n",
              "            downloaded += buffer.byteLength;\n",
              "            progress.value = downloaded;\n",
              "          }\n",
              "        }\n",
              "      }\n",
              "      const blob = new Blob(buffers, {type: 'application/binary'});\n",
              "      const a = document.createElement('a');\n",
              "      a.href = window.URL.createObjectURL(blob);\n",
              "      a.download = filename;\n",
              "      div.appendChild(a);\n",
              "      a.click();\n",
              "      div.remove();\n",
              "    }\n",
              "  "
            ],
            "text/plain": [
              "<IPython.core.display.Javascript object>"
            ]
          },
          "metadata": {
            "tags": []
          }
        },
        {
          "output_type": "display_data",
          "data": {
            "application/javascript": [
              "download(\"download_82299edc-fa59-4a75-81d6-55fcfa6995f7\", \"prediction8.csv\", 14221)"
            ],
            "text/plain": [
              "<IPython.core.display.Javascript object>"
            ]
          },
          "metadata": {
            "tags": []
          }
        }
      ]
    }
  ]
}